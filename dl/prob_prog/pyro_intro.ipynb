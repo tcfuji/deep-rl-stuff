{
  "nbformat": 4,
  "nbformat_minor": 0,
  "metadata": {
    "colab": {
      "name": "pyro_intro.ipynb",
      "version": "0.3.2",
      "provenance": [],
      "collapsed_sections": []
    },
    "kernelspec": {
      "name": "python3",
      "display_name": "Python 3"
    },
    "accelerator": "GPU"
  },
  "cells": [
    {
      "cell_type": "code",
      "metadata": {
        "id": "S8CVbbGICD5k",
        "colab_type": "code",
        "outputId": "6c29722b-e0f3-4766-a5eb-9d8970c9ca96",
        "colab": {
          "base_uri": "https://localhost:8080/",
          "height": 153
        }
      },
      "source": [
        "# Code from pyro tutorial\n",
        "\n",
        "!pip install pyro-ppl \n",
        "\n",
        "import torch\n",
        "import torch.distributions as distributions\n",
        "\n",
        "import pyro\n",
        "\n",
        "pyro.set_rng_seed(101)"
      ],
      "execution_count": 1,
      "outputs": [
        {
          "output_type": "stream",
          "text": [
            "Requirement already satisfied: pyro-ppl in /usr/local/lib/python3.6/dist-packages (0.3.3)\n",
            "Requirement already satisfied: opt-einsum>=2.3.2 in /usr/local/lib/python3.6/dist-packages (from pyro-ppl) (2.3.2)\n",
            "Requirement already satisfied: tqdm>=4.31 in /usr/local/lib/python3.6/dist-packages (from pyro-ppl) (4.32.2)\n",
            "Requirement already satisfied: six>=1.10.0 in /usr/local/lib/python3.6/dist-packages (from pyro-ppl) (1.12.0)\n",
            "Requirement already satisfied: torch>=1.1.0 in /usr/local/lib/python3.6/dist-packages (from pyro-ppl) (1.1.0)\n",
            "Requirement already satisfied: contextlib2 in /usr/local/lib/python3.6/dist-packages (from pyro-ppl) (0.5.5)\n",
            "Requirement already satisfied: graphviz>=0.8 in /usr/local/lib/python3.6/dist-packages (from pyro-ppl) (0.10.1)\n",
            "Requirement already satisfied: numpy>=1.7 in /usr/local/lib/python3.6/dist-packages (from pyro-ppl) (1.16.4)\n"
          ],
          "name": "stdout"
        }
      ]
    },
    {
      "cell_type": "markdown",
      "metadata": {
        "id": "m2Js3i67QMgG",
        "colab_type": "text"
      },
      "source": [
        "# Main assumption going forward: Any event can be represented as a (torch) distribution!\n",
        "\n",
        "---\n",
        "\n"
      ]
    },
    {
      "cell_type": "code",
      "metadata": {
        "id": "nVllQZ7TD0E1",
        "colab_type": "code",
        "outputId": "fd452707-814b-4545-ceaf-70ea4ad4deac",
        "colab": {
          "base_uri": "https://localhost:8080/",
          "height": 51
        }
      },
      "source": [
        "# Just using torch distributions (no pyro yet)\n",
        "mu = 0\n",
        "sigma = 1\n",
        "\n",
        "normal = distributions.Normal(mu, sigma)\n",
        "x = normal.rsample() # draw a sample from N(0, 1)\n",
        "print(\"sample:\", x)\n",
        "print(\"log prob:\", normal.log_prob(x))"
      ],
      "execution_count": 2,
      "outputs": [
        {
          "output_type": "stream",
          "text": [
            "sample: tensor(-1.3905)\n",
            "log prob: tensor(-1.8857)\n"
          ],
          "name": "stdout"
        }
      ]
    },
    {
      "cell_type": "code",
      "metadata": {
        "id": "fK6TR0PPJgIp",
        "colab_type": "code",
        "colab": {}
      },
      "source": [
        "# weather model (still only using torch)\n",
        "def weather():\n",
        "  is_cloudy = distributions.Bernoulli(0.3).sample()\n",
        "  is_cloudy = 'cloudy' if is_cloudy.item() == 1.0 else 'sunny'\n",
        "  mean_temp = {'cloudy': 55.0, 'sunny': 75.0}[is_cloudy]\n",
        "  scale_temp = {'cloudy': 10.0, 'sunny': 15.0}[is_cloudy]\n",
        "  temp = distributions.Normal(mean_temp, scale_temp).rsample()\n",
        "  return is_cloudy, temp.item()"
      ],
      "execution_count": 0,
      "outputs": []
    },
    {
      "cell_type": "code",
      "metadata": {
        "id": "1KfIJsVNW176",
        "colab_type": "code",
        "outputId": "09b40410-5d95-4542-ffa0-9048869c06dd",
        "colab": {
          "base_uri": "https://localhost:8080/",
          "height": 34
        }
      },
      "source": [
        "# Now using pyro.\n",
        "\"\"\"\n",
        "Pyro uses names for each sample since these names are used to uniquely identify \n",
        "sample statements and change behavior at runtime depending on how the enclosing \n",
        "stochastic function is being used.\n",
        "\"\"\"\n",
        "x = pyro.sample(\"first_sample\", pyro.distributions.Normal(mu, sigma))\n",
        "x"
      ],
      "execution_count": 4,
      "outputs": [
        {
          "output_type": "execute_result",
          "data": {
            "text/plain": [
              "tensor(-0.8152)"
            ]
          },
          "metadata": {
            "tags": []
          },
          "execution_count": 4
        }
      ]
    },
    {
      "cell_type": "code",
      "metadata": {
        "id": "8fmyTVBJYQ0R",
        "colab_type": "code",
        "colab": {}
      },
      "source": [
        "# joint distribution of a bernoulli rv and a normal rv\n",
        "def pyro_weather():\n",
        "  is_cloudy = pyro.sample('cloudy', pyro.distributions.Bernoulli(0.3))\n",
        "  is_cloudy = 'cloudy' if is_cloudy.item() == 1.0 else 'sunny'\n",
        "  mean_temp = {'cloudy': 55.0, 'sunny': 75.0}[is_cloudy]\n",
        "  scale_temp = {'cloudy': 10.0, 'sunny': 15.0}[is_cloudy]\n",
        "  temp = pyro.sample('temp', pyro.distributions.Normal(mean_temp, scale_temp))\n",
        "  return is_cloudy, temp.item()"
      ],
      "execution_count": 0,
      "outputs": []
    },
    {
      "cell_type": "code",
      "metadata": {
        "id": "_XJyBxUNY7z_",
        "colab_type": "code",
        "outputId": "087b7b96-6f6d-40e5-8d86-9e8f5fa828b9",
        "colab": {
          "base_uri": "https://localhost:8080/",
          "height": 102
        }
      },
      "source": [
        "# weather sampling\n",
        "for _ in range(5):\n",
        "  print(pyro_weather())"
      ],
      "execution_count": 6,
      "outputs": [
        {
          "output_type": "stream",
          "text": [
            "('cloudy', 64.5440444946289)\n",
            "('sunny', 94.37557983398438)\n",
            "('sunny', 72.5186767578125)\n",
            "('cloudy', 54.18292999267578)\n",
            "('sunny', 93.99440002441406)\n"
          ],
          "name": "stdout"
        }
      ]
    },
    {
      "cell_type": "code",
      "metadata": {
        "id": "fuqprwHsZhn6",
        "colab_type": "code",
        "outputId": "9396618d-ca82-4885-a19a-350bcccb69c0",
        "colab": {
          "base_uri": "https://localhost:8080/",
          "height": 102
        }
      },
      "source": [
        "# now build a more complicated model using the past simple weather model\n",
        "def ice_cream_sales():\n",
        "  cloudy, temp = pyro_weather()\n",
        "  expected_sales = 200. if cloudy == 'sunny' and temp > 80.0 else 50.\n",
        "  ice_cream = pyro.sample('ice_cream', pyro.distributions.Normal(expected_sales, 10.))\n",
        "  return ice_cream\n",
        "\n",
        "for _ in range(5):\n",
        "  print(ice_cream_sales())"
      ],
      "execution_count": 7,
      "outputs": [
        {
          "output_type": "stream",
          "text": [
            "tensor(206.0483)\n",
            "tensor(51.5489)\n",
            "tensor(52.4866)\n",
            "tensor(21.4417)\n",
            "tensor(42.9951)\n"
          ],
          "name": "stdout"
        }
      ]
    },
    {
      "cell_type": "code",
      "metadata": {
        "id": "aG7IAy35azU6",
        "colab_type": "code",
        "outputId": "75605bc9-4923-4574-ba4c-eebcf842d1e4",
        "colab": {
          "base_uri": "https://localhost:8080/",
          "height": 34
        }
      },
      "source": [
        "# recursive geometric distribution\n",
        "def geometric(p, t=0):\n",
        "  x = pyro.sample(\"x_{}\".format(t), pyro.distributions.Bernoulli(p))\n",
        "  if x.item() == 1:\n",
        "    return 0\n",
        "  else:\n",
        "    return 1 + geometric(p, t + 1)\n",
        "\n",
        "geometric(0.5)"
      ],
      "execution_count": 8,
      "outputs": [
        {
          "output_type": "execute_result",
          "data": {
            "text/plain": [
              "0"
            ]
          },
          "metadata": {
            "tags": []
          },
          "execution_count": 8
        }
      ]
    },
    {
      "cell_type": "code",
      "metadata": {
        "id": "zYcIi7JbdoGO",
        "colab_type": "code",
        "outputId": "7f511af3-1ea2-4791-9192-a2f82b854235",
        "colab": {
          "base_uri": "https://localhost:8080/",
          "height": 34
        }
      },
      "source": [
        "# higher-order functionality\n",
        "def normal_product(loc, scale):\n",
        "  z1 = pyro.sample('z1', pyro.distributions.Normal(loc, scale))\n",
        "  z2 = pyro.sample('z2', pyro.distributions.Normal(loc, scale))\n",
        "  y = z1 * z2\n",
        "  return y\n",
        "\n",
        "def make_normal_normal():\n",
        "  mu_latent = pyro.sample('mu_latent', pyro.distributions.Normal(0, 1))\n",
        "  fn = lambda scale: normal_product(mu_latent, scale)\n",
        "  return fn\n",
        "\n",
        "print(make_normal_normal()(1.))"
      ],
      "execution_count": 9,
      "outputs": [
        {
          "output_type": "stream",
          "text": [
            "tensor(-0.1305)\n"
          ],
          "name": "stdout"
        }
      ]
    },
    {
      "cell_type": "markdown",
      "metadata": {
        "id": "0GAGlEiedI3k",
        "colab_type": "text"
      },
      "source": [
        "## Pyro stochastic functions are *universal*, which means that they can be used to represent any computable probability distribution!"
      ]
    },
    {
      "cell_type": "code",
      "metadata": {
        "id": "8_774Ct1csQ9",
        "colab_type": "code",
        "colab": {
          "base_uri": "https://localhost:8080/",
          "height": 153
        },
        "outputId": "f3203f43-6c61-4205-b5fb-a19924e64360"
      },
      "source": [
        "!pip install pyro-ppl\n",
        "\n",
        "import matplotlib.pyplot as plt\n",
        "\n",
        "import numpy as np\n",
        "import torch\n",
        "\n",
        "import pyro\n",
        "import pyro.infer\n",
        "import pyro.optim\n",
        "import pyro.distributions as dist\n",
        "\n",
        "%matplotlib inline\n",
        "\n",
        "pyro.set_rng_seed(101)"
      ],
      "execution_count": 10,
      "outputs": [
        {
          "output_type": "stream",
          "text": [
            "Requirement already satisfied: pyro-ppl in /usr/local/lib/python3.6/dist-packages (0.3.3)\n",
            "Requirement already satisfied: tqdm>=4.31 in /usr/local/lib/python3.6/dist-packages (from pyro-ppl) (4.32.2)\n",
            "Requirement already satisfied: six>=1.10.0 in /usr/local/lib/python3.6/dist-packages (from pyro-ppl) (1.12.0)\n",
            "Requirement already satisfied: torch>=1.1.0 in /usr/local/lib/python3.6/dist-packages (from pyro-ppl) (1.1.0)\n",
            "Requirement already satisfied: numpy>=1.7 in /usr/local/lib/python3.6/dist-packages (from pyro-ppl) (1.16.4)\n",
            "Requirement already satisfied: contextlib2 in /usr/local/lib/python3.6/dist-packages (from pyro-ppl) (0.5.5)\n",
            "Requirement already satisfied: graphviz>=0.8 in /usr/local/lib/python3.6/dist-packages (from pyro-ppl) (0.10.1)\n",
            "Requirement already satisfied: opt-einsum>=2.3.2 in /usr/local/lib/python3.6/dist-packages (from pyro-ppl) (2.3.2)\n"
          ],
          "name": "stdout"
        }
      ]
    },
    {
      "cell_type": "code",
      "metadata": {
        "id": "v8SwWoLKLm6J",
        "colab_type": "code",
        "colab": {}
      },
      "source": [
        "# weight | guess ~ N(guess, 1), measurement | guess, weight ~ N(weight, .75)\n",
        "\n",
        "def scale(guess):\n",
        "  weight = pyro.sample(\"weight\", dist.Normal(guess, 1))\n",
        "  return pyro.sample(\"measurement\", dist.Normal(weight, .75))"
      ],
      "execution_count": 0,
      "outputs": []
    },
    {
      "cell_type": "code",
      "metadata": {
        "id": "eU8jdBbVpN7p",
        "colab_type": "code",
        "colab": {}
      },
      "source": [
        "# Want to model (weight | guess, measurement = 9.5)\n",
        "conditioned_scale = pyro.condition(scale, data={'measurement': 9.5})"
      ],
      "execution_count": 0,
      "outputs": []
    },
    {
      "cell_type": "code",
      "metadata": {
        "id": "CMTTPd3arpUJ",
        "colab_type": "code",
        "colab": {}
      },
      "source": [
        "def deferred_conditioned_scale(measurement, guess):\n",
        "  return pyro.condition(scale, data={'measurement': measurement})(guess)"
      ],
      "execution_count": 0,
      "outputs": []
    },
    {
      "cell_type": "code",
      "metadata": {
        "id": "ONbHehkaxtFv",
        "colab_type": "code",
        "colab": {}
      },
      "source": [
        "def scale_obs(guess): # equivalent to conditioned_scale above\n",
        "  weight = pyro.sample('weight', dist.Normal(guess, 1.))\n",
        "  return pyro.sample('measurement', dist.Normal(weight, 1.), obs=9.5)"
      ],
      "execution_count": 0,
      "outputs": []
    },
    {
      "cell_type": "code",
      "metadata": {
        "id": "SI6v9WQ5yGs2",
        "colab_type": "code",
        "colab": {}
      },
      "source": [
        "def perfect_guide(guess):\n",
        "  loc = (0.75 ** 2 * guess + 9.5) / (1 + 0.75 ** 2) # 9.14\n",
        "  scale = np.sqrt(0.75 ** 2 / (1 + 0.75 ** 2)) # 0.6\n",
        "  return pyro.sample('weight', dist.Normal(loc, scale))"
      ],
      "execution_count": 0,
      "outputs": []
    },
    {
      "cell_type": "markdown",
      "metadata": {
        "id": "A3g-MkAU-Z3n",
        "colab_type": "text"
      },
      "source": [
        "## Pyro Variational Inference: Use the top-level function `pyro.param` to specify a family of guides indexed by named parameters, and search for the member of that family that is the best approximation according to some loss function."
      ]
    },
    {
      "cell_type": "code",
      "metadata": {
        "id": "IV3bAnHf6h1-",
        "colab_type": "code",
        "colab": {}
      },
      "source": [
        "from torch.distributions import constraints\n",
        "\n",
        "def scale_parameterized_guide(guess):\n",
        "  a = pyro.param('a', torch.tensor(guess))\n",
        "  # make positive since std must be positive\n",
        "  b = pyro.param('b', torch.tensor(1.), constraint=constraints.positive)\n",
        "  return pyro.sample('weight', dist.Normal(a, b))"
      ],
      "execution_count": 0,
      "outputs": []
    },
    {
      "cell_type": "markdown",
      "metadata": {
        "id": "1Db-TVDqF1Jo",
        "colab_type": "text"
      },
      "source": [
        "Stochastic Variational Inference (SVI) is a powerful and widely applicable class of variational inference algorithms with three key characteristics:\n",
        "\n",
        "1. Parameters are always real-valued tensors\n",
        "2. We compute Monte Carlo estimates of a loss function from samples of execution histories of the model and guide\n",
        "3. We use stochastic gradient descent to search for the optimal parameters."
      ]
    },
    {
      "cell_type": "code",
      "metadata": {
        "id": "-T-Ri27oFeOk",
        "colab_type": "code",
        "colab": {
          "base_uri": "https://localhost:8080/",
          "height": 329
        },
        "outputId": "093a7aff-e3e3-4671-f01a-0510d30e1ee2"
      },
      "source": [
        "# simple SVI example\n",
        "\n",
        "guess = 8.5\n",
        "pyro.clear_param_store()\n",
        "svi = pyro.infer.SVI(model=conditioned_scale,\n",
        "                     guide=scale_parameterized_guide,\n",
        "                     optim=pyro.optim.SGD({'lr': 0.001, 'momentum': 0.1}),\n",
        "                     loss=pyro.infer.Trace_ELBO())\n",
        "\n",
        "losses, a, b = [], [], []\n",
        "num_steps = 2500\n",
        "for t in range(num_steps):\n",
        "  losses.append(svi.step(guess))\n",
        "  a.append(pyro.param('a').item())\n",
        "  b.append(pyro.param('b').item())\n",
        "  \n",
        "plt.plot(losses)\n",
        "plt.title(\"ELBO\")\n",
        "plt.xlabel(\"step\")\n",
        "plt.ylabel(\"loss\");\n",
        "print('a = ',pyro.param(\"a\").item())\n",
        "print('b = ', pyro.param(\"b\").item())"
      ],
      "execution_count": 17,
      "outputs": [
        {
          "output_type": "stream",
          "text": [
            "a =  9.107148170471191\n",
            "b =  0.6064099669456482\n"
          ],
          "name": "stdout"
        },
        {
          "output_type": "display_data",
          "data": {
            "image/png": "[encoded data removed]",
            "text/plain": [
              "<Figure size 432x288 with 1 Axes>"
            ]
          },
          "metadata": {
            "tags": []
          }
        }
      ]
    },
    {
      "cell_type": "code",
      "metadata": {
        "id": "Jss1yFWMJxVV",
        "colab_type": "code",
        "colab": {
          "base_uri": "https://localhost:8080/",
          "height": 297
        },
        "outputId": "0f19318c-0687-43c8-bf1f-569a016855dd"
      },
      "source": [
        "plt.subplot(1,2,1)\n",
        "plt.plot([0,num_steps],[9.14,9.14], 'k:')\n",
        "plt.plot(a)\n",
        "plt.ylabel('a')\n",
        "\n",
        "plt.subplot(1,2,2)\n",
        "plt.ylabel('b')\n",
        "plt.plot([0,num_steps],[0.6,0.6], 'k:')\n",
        "plt.plot(b)\n",
        "plt.tight_layout()"
      ],
      "execution_count": 18,
      "outputs": [
        {
          "output_type": "display_data",
          "data": {
            "image/png": "[encoded data removed]",
            "text/plain": [
              "<Figure size 432x288 with 2 Axes>"
            ]
          },
          "metadata": {
            "tags": []
          }
        }
      ]
    },
    {
      "cell_type": "code",
      "metadata": {
        "id": "yq65ZzovKIZS",
        "colab_type": "code",
        "colab": {}
      },
      "source": [
        ""
      ],
      "execution_count": 0,
      "outputs": []
    }
  ]
}